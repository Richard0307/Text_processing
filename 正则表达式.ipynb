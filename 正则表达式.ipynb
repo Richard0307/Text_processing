{
 "cells": [
  {
   "cell_type": "code",
   "execution_count": 10,
   "metadata": {},
   "outputs": [
    {
     "name": "stdout",
     "output_type": "stream",
     "text": [
      "COM3110 \n",
      "COM3504 \n",
      "COM31007\n",
      "COM3420 \n",
      "COM3501 \n",
      "COM3502 \n"
     ]
    }
   ],
   "source": [
    "import re\n",
    "content = '''COM3110 文本处理 秋 10分\n",
    "COM3504 智慧网络 春 10分 \n",
    "COM31007 移动设备软件开发 秋 10分\n",
    "COM3420 软件小屋 春 20分\n",
    "COM3501 计算机安全和取证 1春 10分\n",
    "COM3502 语音处理 秋 10分\n",
    "Yoshi Gotoh '''\n",
    "p = re.compile(r'COM.....')\n",
    "for i in p.findall(content):\n",
    "    print(i)\n",
    "        "
   ]
  },
  {
   "cell_type": "code",
   "execution_count": null,
   "metadata": {},
   "outputs": [],
   "source": []
  }
 ],
 "metadata": {
  "kernelspec": {
   "display_name": "Python 3.9.12 ('base')",
   "language": "python",
   "name": "python3"
  },
  "language_info": {
   "codemirror_mode": {
    "name": "ipython",
    "version": 3
   },
   "file_extension": ".py",
   "mimetype": "text/x-python",
   "name": "python",
   "nbconvert_exporter": "python",
   "pygments_lexer": "ipython3",
   "version": "3.9.12"
  },
  "orig_nbformat": 4,
  "vscode": {
   "interpreter": {
    "hash": "24147ad33b33b568a93ba0a0baf17003407314b3ad686b8611046569fd027ddc"
   }
  }
 },
 "nbformat": 4,
 "nbformat_minor": 2
}
